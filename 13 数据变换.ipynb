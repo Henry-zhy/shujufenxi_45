{
 "cells": [
  {
   "cell_type": "markdown",
   "metadata": {},
   "source": [
    "## MIN-MAX 规范化"
   ]
  },
  {
   "cell_type": "code",
   "execution_count": 2,
   "metadata": {},
   "outputs": [
    {
     "output_type": "stream",
     "name": "stdout",
     "text": "[[0.         0.         0.66666667]\n [1.         1.         1.        ]\n [0.         1.         0.        ]]\n"
    }
   ],
   "source": [
    "\n",
    "# coding:utf-8\n",
    "from sklearn import preprocessing\n",
    "import numpy as np\n",
    "# 初始化数据，每一行表示一个样本，每一列表示一个特征\n",
    "x = np.array([[ 0., -3.,  1.],\n",
    "              [ 3.,  1.,  2.],\n",
    "              [ 0.,  1., -1.]])\n",
    "# 将数据进行[0,1]规范化\n",
    "min_max_scaler = preprocessing.MinMaxScaler()\n",
    "minmax_x = min_max_scaler.fit_transform(x)\n",
    "print (minmax_x)"
   ]
  },
  {
   "cell_type": "markdown",
   "metadata": {},
   "source": [
    "## Z-score规范化\n"
   ]
  },
  {
   "cell_type": "code",
   "execution_count": 4,
   "metadata": {},
   "outputs": [
    {
     "output_type": "stream",
     "name": "stdout",
     "text": "[[-0.70710678 -1.41421356  0.26726124]\n [ 1.41421356  0.70710678  1.06904497]\n [-0.70710678  0.70710678 -1.33630621]]\n"
    }
   ],
   "source": [
    "\n",
    "from sklearn import preprocessing\n",
    "import numpy as np\n",
    "# 初始化数据\n",
    "x = np.array([[ 0., -3.,  1.],\n",
    "              [ 3.,  1.,  2.],\n",
    "              [ 0.,  1., -1.]])\n",
    "# 将数据进行Z-Score规范化\n",
    "scaled_x = preprocessing.scale(x)\n",
    "print(scaled_x)"
   ]
  },
  {
   "cell_type": "code",
   "execution_count": null,
   "metadata": {},
   "outputs": [],
   "source": [
    "\n",
    "# coding:utf-8\n",
    "from sklearn import preprocessing\n",
    "import numpy as np\n",
    "# 初始化数据\n",
    "x = np.array([[ 0., -3.,  1.],\n",
    "              [ 3.,  1.,  2.],\n",
    "              [ 0.,  1., -1.]])\n",
    "# 小数定标规范化\n",
    "j = np.ceil(np.log10(np.max(abs(x))))\n",
    "scaled_x = x/(10**j)\n",
    "print(scaled_x)"
   ]
  }
 ],
 "metadata": {
  "language_info": {
   "codemirror_mode": {
    "name": "ipython",
    "version": 3
   },
   "file_extension": ".py",
   "mimetype": "text/x-python",
   "name": "python",
   "nbconvert_exporter": "python",
   "pygments_lexer": "ipython3",
   "version": "3.7.4-final"
  },
  "orig_nbformat": 2,
  "kernelspec": {
   "name": "python3",
   "display_name": "Python 3"
  }
 },
 "nbformat": 4,
 "nbformat_minor": 2
}